{
  "nbformat": 4,
  "nbformat_minor": 0,
  "metadata": {
    "colab": {
      "provenance": [],
      "authorship_tag": "ABX9TyNdgGqLelLbq+DciN2+D3wH",
      "include_colab_link": true
    },
    "kernelspec": {
      "name": "python3",
      "display_name": "Python 3"
    },
    "language_info": {
      "name": "python"
    }
  },
  "cells": [
    {
      "cell_type": "markdown",
      "metadata": {
        "id": "view-in-github",
        "colab_type": "text"
      },
      "source": [
        "<a href=\"https://colab.research.google.com/github/shanzajabeen1/Sample-Repository/blob/main/Computing_Practice_4.ipynb\" target=\"_parent\"><img src=\"https://colab.research.google.com/assets/colab-badge.svg\" alt=\"Open In Colab\"/></a>"
      ]
    },
    {
      "cell_type": "code",
      "execution_count": 2,
      "metadata": {
        "colab": {
          "base_uri": "https://localhost:8080/"
        },
        "id": "_BqG4cSpO6Y0",
        "outputId": "631de2e7-dc20-4779-f353-713ff62a5d93"
      },
      "outputs": [
        {
          "output_type": "stream",
          "name": "stdout",
          "text": [
            "Number: 6\n",
            "6 x 1 = 6\n",
            "6 x 2 = 12\n",
            "6 x 3 = 18\n",
            "6 x 4 = 24\n",
            "6 x 5 = 30\n",
            "6 x 6 = 36\n",
            "6 x 7 = 42\n",
            "6 x 8 = 48\n",
            "6 x 9 = 54\n",
            "6 x 10 = 60\n"
          ]
        }
      ],
      "source": [
        "n = int(input(\"Number: \"))\n",
        "\n",
        "# use for loop to iterate 10 times\n",
        "for i in range(1,11):\n",
        "   print(n,'x',i,'=',n*i)\n",
        ""
      ]
    },
    {
      "cell_type": "code",
      "source": [
        "def factorial(n):\n",
        "    if n == 0:\n",
        "        return 1\n",
        "    else:\n",
        "        return n * factorial(n-1)\n",
        "n=int(input(\"number: \"))\n",
        "print(factorial(n))\n"
      ],
      "metadata": {
        "colab": {
          "base_uri": "https://localhost:8080/"
        },
        "id": "8MXw2KFuTIQb",
        "outputId": "594eb1e3-4b21-45e1-a389-46ad4be7f6d9"
      },
      "execution_count": 5,
      "outputs": [
        {
          "output_type": "stream",
          "name": "stdout",
          "text": [
            "number: 4\n",
            "24\n"
          ]
        }
      ]
    },
    {
      "cell_type": "code",
      "source": [
        "def arithmetic_sequence (n, diff):\n",
        "    sequence = [1 + i * diff for i in range(1, n)]\n",
        "\n",
        "    return sequence\n",
        "\n",
        "n = int(input(\"n: \"))\n",
        "diff = int(input(\"diff: \"))\n",
        "\n",
        "result_sequence = arithmetic_sequence(n, diff)\n",
        "print(f\"The arithmetic sequence is: {result_sequence}\")\n"
      ],
      "metadata": {
        "colab": {
          "base_uri": "https://localhost:8080/"
        },
        "id": "3kRkIfSHTkAX",
        "outputId": "e6c360c7-1fa2-4dd0-c7d4-fcc91d688a79"
      },
      "execution_count": 12,
      "outputs": [
        {
          "output_type": "stream",
          "name": "stdout",
          "text": [
            "n: 5\n",
            "diff: 2\n",
            "The arithmetic sequence is: [3, 5, 7, 9]\n"
          ]
        }
      ]
    },
    {
      "cell_type": "code",
      "source": [
        "def arithmetic_sequence (n, diff):\n",
        "    sequence = [i ** diff for i in range(1, n)]\n",
        "\n",
        "    return sequence\n",
        "\n",
        "n = int(input(\"n: \"))\n",
        "diff = int(input(\"diff: \"))\n",
        "\n",
        "result_sequence = arithmetic_sequence(n, diff)\n",
        "print(f\"The arithmetic sequence is: {result_sequence}\")\n"
      ],
      "metadata": {
        "colab": {
          "base_uri": "https://localhost:8080/"
        },
        "outputId": "371cef77-a5a7-4158-970c-95522de7da8a",
        "id": "_3v2RTP8aoMW"
      },
      "execution_count": 11,
      "outputs": [
        {
          "output_type": "stream",
          "name": "stdout",
          "text": [
            "n: 10\n",
            "diff: 3\n",
            "The arithmetic sequence is: [1, 8, 27, 64, 125, 216, 343, 512, 729]\n"
          ]
        }
      ]
    },
    {
      "cell_type": "code",
      "source": [
        "word = \"Python\"\n",
        "\n",
        "for letter in word:\n",
        "    print(letter)\n",
        "    print()\n"
      ],
      "metadata": {
        "colab": {
          "base_uri": "https://localhost:8080/"
        },
        "id": "b7Gd1cNcbvDu",
        "outputId": "bef83cb0-e8cc-4c95-d3b6-adc491ecdc58"
      },
      "execution_count": 16,
      "outputs": [
        {
          "output_type": "stream",
          "name": "stdout",
          "text": [
            "P\n",
            "\n",
            "y\n",
            "\n",
            "t\n",
            "\n",
            "h\n",
            "\n",
            "o\n",
            "\n",
            "n\n",
            "\n"
          ]
        }
      ]
    },
    {
      "cell_type": "code",
      "source": [
        "for num in range(0, 21, 5):\n",
        "    print(num)\n"
      ],
      "metadata": {
        "colab": {
          "base_uri": "https://localhost:8080/"
        },
        "id": "fuZKoGeeca9y",
        "outputId": "baf26fe2-1e99-4526-e924-2cd77786af36"
      },
      "execution_count": 17,
      "outputs": [
        {
          "output_type": "stream",
          "name": "stdout",
          "text": [
            "0\n",
            "5\n",
            "10\n",
            "15\n",
            "20\n"
          ]
        }
      ]
    },
    {
      "cell_type": "code",
      "source": [
        "n=int(input(\"n: \"))\n",
        "for num in range(2,n*2+1):\n",
        "    if num%2 ==0:\n",
        "      print(num)"
      ],
      "metadata": {
        "colab": {
          "base_uri": "https://localhost:8080/"
        },
        "id": "mroBLvmogXWT",
        "outputId": "74bd875f-d705-4120-eab3-1dc31a5e6abc"
      },
      "execution_count": 22,
      "outputs": [
        {
          "output_type": "stream",
          "name": "stdout",
          "text": [
            "n: 5\n",
            "2\n",
            "4\n",
            "6\n",
            "8\n",
            "10\n"
          ]
        }
      ]
    },
    {
      "cell_type": "code",
      "source": [
        "def is_prime_basic(num):\n",
        "    if num < 2:\n",
        "        return False\n",
        "\n",
        "    for i in range(2, int(num**0.5) + 1):\n",
        "        if num % i == 0:\n",
        "            return False\n",
        "\n",
        "    return True\n",
        "is_prime_basic(3)\n",
        "\n",
        "\n"
      ],
      "metadata": {
        "colab": {
          "base_uri": "https://localhost:8080/"
        },
        "id": "GBoUoJuzilx1",
        "outputId": "c78248ed-7788-4854-c865-83704b1d4226"
      },
      "execution_count": 24,
      "outputs": [
        {
          "output_type": "execute_result",
          "data": {
            "text/plain": [
              "True"
            ]
          },
          "metadata": {},
          "execution_count": 24
        }
      ]
    },
    {
      "cell_type": "code",
      "source": [
        "def prime(num):\n",
        "    if num < 2:\n",
        "        return False\n",
        "\n",
        "    for i in range(2, int(num**0.5) + 1):\n",
        "        if num % i == 0:\n",
        "            return False\n",
        "\n",
        "    return True\n",
        "try:\n",
        "    a = int(input(\"a: \"))\n",
        "    b = int(input(\"b: \"))\n",
        "\n",
        "    print(f\"Prime numbers between {a} and {b} are:\")\n",
        "    for number in range(a, b + 1):\n",
        "        if prime(number):\n",
        "            print(number)\n",
        "except ValueError as ve:\n",
        "    print(f\"Error: {ve}\")\n",
        "    print(\"Please enter valid integers for a and b.\")\n"
      ],
      "metadata": {
        "colab": {
          "base_uri": "https://localhost:8080/"
        },
        "id": "DADzbGeF75vO",
        "outputId": "6724f55a-2d34-416c-f5d9-9effabbb34f7"
      },
      "execution_count": 26,
      "outputs": [
        {
          "output_type": "stream",
          "name": "stdout",
          "text": [
            "a: 5\n",
            "b: 15\n",
            "Prime numbers between 5 and 15 are:\n",
            "5\n",
            "7\n",
            "11\n",
            "13\n"
          ]
        }
      ]
    },
    {
      "cell_type": "code",
      "source": [
        "positive_count = 0\n",
        "negative_count = 0\n",
        "zero_count = 0\n",
        "\n",
        "choice = 'Y'\n",
        "while choice == 'Y' or choice == 'y':\n",
        "    num = int(input(\"Enter a number: \"))\n",
        "    if num == 0:\n",
        "        zero_count += 1\n",
        "    elif num > 0:\n",
        "        positive_count += 1\n",
        "    else:\n",
        "        negative_count += 1\n",
        "\n",
        "    choice = input(\"Do you wish to continue (y/n)?: \")\n",
        "\n",
        "print(\"Positive numbers:\", positive_count, \", Negative numbers:\", negative_count, \", Zeros:\", zero_count)"
      ],
      "metadata": {
        "colab": {
          "base_uri": "https://localhost:8080/"
        },
        "id": "mkMPbKxC9hN1",
        "outputId": "5be9f079-6c5d-477b-a19f-197f9c0955b5"
      },
      "execution_count": 27,
      "outputs": [
        {
          "output_type": "stream",
          "name": "stdout",
          "text": [
            "Enter a number: 20\n",
            "Do you wish to continue (y/n)?: y\n",
            "Enter a number: 11\n",
            "Do you wish to continue (y/n)?: y\n",
            "Enter a number: 2\n",
            "Do you wish to continue (y/n)?: n\n",
            "Positive numbers: 3 , Negative numbers: 0 , Zeros: 0\n"
          ]
        }
      ]
    },
    {
      "cell_type": "code",
      "source": [
        "pattern = [\"* \" * i for i in range(1, 6)]\n",
        "pattern += [\"* \" * i for i in range(4, 0, -1)]\n",
        "\n",
        "print(\"\\n\".join(pattern))"
      ],
      "metadata": {
        "colab": {
          "base_uri": "https://localhost:8080/"
        },
        "id": "jR5Zo_Dh9z5b",
        "outputId": "3908bb0b-61c4-4eb6-8ddf-86c2a2910273"
      },
      "execution_count": 28,
      "outputs": [
        {
          "output_type": "stream",
          "name": "stdout",
          "text": [
            "* \n",
            "* * \n",
            "* * * \n",
            "* * * * \n",
            "* * * * * \n",
            "* * * * \n",
            "* * * \n",
            "* * \n",
            "* \n"
          ]
        }
      ]
    },
    {
      "cell_type": "code",
      "source": [
        "pattern = [''.join(['*' if (j == 0 or j == 4) or ((i == 0 or i == 3) and (j > 0 and j < 4)) else ' ' for j in range(5)])\n",
        "    for i in range(7)]\n",
        "\n",
        "print('\\n'.join(pattern))"
      ],
      "metadata": {
        "colab": {
          "base_uri": "https://localhost:8080/"
        },
        "id": "_29_KKCW-fDb",
        "outputId": "9a1554f5-6cc9-47b4-f70d-1ac6cac22c9c"
      },
      "execution_count": 29,
      "outputs": [
        {
          "output_type": "stream",
          "name": "stdout",
          "text": [
            "*****\n",
            "*   *\n",
            "*   *\n",
            "*****\n",
            "*   *\n",
            "*   *\n",
            "*   *\n"
          ]
        }
      ]
    },
    {
      "cell_type": "code",
      "source": [
        "pattern = [str(i) * i for i in range(1, 10)]\n",
        "print('\\n'.join(pattern))"
      ],
      "metadata": {
        "colab": {
          "base_uri": "https://localhost:8080/"
        },
        "id": "Has2m7q8_aOO",
        "outputId": "27a7bdfc-bf19-43c6-c2b3-20fd7368ce84"
      },
      "execution_count": 33,
      "outputs": [
        {
          "output_type": "stream",
          "name": "stdout",
          "text": [
            "1\n",
            "22\n",
            "333\n",
            "4444\n",
            "55555\n",
            "666666\n",
            "7777777\n",
            "88888888\n",
            "999999999\n"
          ]
        }
      ]
    },
    {
      "cell_type": "code",
      "source": [
        "def is_armstrong_number(num):\n",
        "    order = len(str(num))\n",
        "    return num == sum(int(digit) ** order for digit in str(num))\n",
        "\n",
        "armstrong_numbers = [num for num in range(1, 501) if is_armstrong_number(num)]\n",
        "print(armstrong_numbers)"
      ],
      "metadata": {
        "id": "fTfDKfnRBKAA",
        "outputId": "5c32978f-8a21-4518-dda9-5a7b712b6bbe",
        "colab": {
          "base_uri": "https://localhost:8080/"
        }
      },
      "execution_count": 35,
      "outputs": [
        {
          "output_type": "stream",
          "name": "stdout",
          "text": [
            "[1, 2, 3, 4, 5, 6, 7, 8, 9, 153, 370, 371, 407]\n"
          ]
        }
      ]
    }
  ]
}