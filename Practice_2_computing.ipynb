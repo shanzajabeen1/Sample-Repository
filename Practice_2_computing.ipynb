{
  "nbformat": 4,
  "nbformat_minor": 0,
  "metadata": {
    "colab": {
      "provenance": [],
      "authorship_tag": "ABX9TyMrkL1lJrrapFwRmYmhVlxn",
      "include_colab_link": true
    },
    "kernelspec": {
      "name": "python3",
      "display_name": "Python 3"
    },
    "language_info": {
      "name": "python"
    }
  },
  "cells": [
    {
      "cell_type": "markdown",
      "metadata": {
        "id": "view-in-github",
        "colab_type": "text"
      },
      "source": [
        "<a href=\"https://colab.research.google.com/github/shanzajabeen1/Sample-Repository/blob/main/Practice_2_computing.ipynb\" target=\"_parent\"><img src=\"https://colab.research.google.com/assets/colab-badge.svg\" alt=\"Open In Colab\"/></a>"
      ]
    },
    {
      "cell_type": "code",
      "source": [
        "def difference(number):\n",
        "    difference = number - 17\n",
        "    if number > 17:\n",
        "         return 2 * abs(difference)\n",
        "    else:\n",
        "        return abs(difference)\n",
        "difference(21)"
      ],
      "metadata": {
        "colab": {
          "base_uri": "https://localhost:8080/"
        },
        "id": "oxKuUySk7uE3",
        "outputId": "4ba4eb8e-6d60-42cb-a00f-185a64383c4c"
      },
      "execution_count": 12,
      "outputs": [
        {
          "output_type": "execute_result",
          "data": {
            "text/plain": [
              "8"
            ]
          },
          "metadata": {},
          "execution_count": 12
        }
      ]
    },
    {
      "cell_type": "code",
      "execution_count": 14,
      "metadata": {
        "id": "zPGwZ_jXOGbE",
        "colab": {
          "base_uri": "https://localhost:8080/"
        },
        "outputId": "bdc955bc-f7a0-461b-cf26-c6dd419876a2"
      },
      "outputs": [
        {
          "output_type": "execute_result",
          "data": {
            "text/plain": [
              "False"
            ]
          },
          "metadata": {},
          "execution_count": 14
        }
      ],
      "source": [
        "def in_range(number):\n",
        "    return (abs(1000 - number) <= 100) or (abs(2000 - number) <= 100)\n",
        "numbers = [900, 950, 1000, 1050, 1900, 1950, 2000, 2050]\n",
        "in_range(800)"
      ]
    },
    {
      "cell_type": "code",
      "source": [
        "def sum_num(x, y, z):\n",
        "  if x==y==z:\n",
        "    return 3*(x+y+z)\n",
        "  else:\n",
        "    return (x+y+z)\n",
        "sum_num(4,4,4)"
      ],
      "metadata": {
        "colab": {
          "base_uri": "https://localhost:8080/"
        },
        "id": "B8aaFjpw7b3I",
        "outputId": "43031df0-950c-418a-f07c-7aa3b1403c9d"
      },
      "execution_count": 19,
      "outputs": [
        {
          "output_type": "execute_result",
          "data": {
            "text/plain": [
              "36"
            ]
          },
          "metadata": {},
          "execution_count": 19
        }
      ]
    },
    {
      "cell_type": "code",
      "source": [
        "number=int(input(\"number=\"))\n",
        "if number % 2==0:\n",
        "  print(\"number is even\")\n",
        "else:\n",
        "  print(\"number is odd\")"
      ],
      "metadata": {
        "colab": {
          "base_uri": "https://localhost:8080/"
        },
        "id": "s0HPmMg_ALra",
        "outputId": "e70c7474-6e81-4a02-94a0-fbbf2abf60c8"
      },
      "execution_count": 22,
      "outputs": [
        {
          "output_type": "stream",
          "name": "stdout",
          "text": [
            "number= 20\n",
            "number is even\n"
          ]
        }
      ]
    },
    {
      "cell_type": "code",
      "source": [
        "letter=input(\"letter=\")\n",
        "vowel=['a', 'e', 'i', 'o', 'u']\n",
        "if letter in vowel:\n",
        "  print(\"vowel\")\n",
        "else:\n",
        "  print(\"consonant\")"
      ],
      "metadata": {
        "colab": {
          "base_uri": "https://localhost:8080/"
        },
        "id": "ZdG1jONxJ36M",
        "outputId": "065063ed-97c0-4172-d1c4-f086dd5ba414"
      },
      "execution_count": 27,
      "outputs": [
        {
          "output_type": "stream",
          "name": "stdout",
          "text": [
            "letter=s\n",
            "consonant\n"
          ]
        }
      ]
    },
    {
      "cell_type": "code",
      "source": [
        "x=int(input(\"x=\"))\n",
        "y=int(input(\"y=\"))\n",
        "z=int(input(\"z=\"))\n",
        "sum=x+y+z\n",
        "if x==y or x==z or y==z:\n",
        "  print(\"sum = 0\")\n",
        "else:\n",
        "  print('sum =',sum)"
      ],
      "metadata": {
        "colab": {
          "base_uri": "https://localhost:8080/"
        },
        "id": "PcJb4JRFLT16",
        "outputId": "33de8a45-0346-4c9a-a63b-5aee7276cb17"
      },
      "execution_count": 33,
      "outputs": [
        {
          "output_type": "stream",
          "name": "stdout",
          "text": [
            "x=8\n",
            "y=5\n",
            "z=3\n",
            "sum = 16\n"
          ]
        }
      ]
    },
    {
      "cell_type": "code",
      "source": [
        "x=int(input(\"x=\"))\n",
        "y=int(input(\"y=\"))\n",
        "sum=x+y\n",
        "if sum<=20 and sum>=15:\n",
        "  print(\"sum = 20\")\n",
        "else:\n",
        "  print('sum =',sum)"
      ],
      "metadata": {
        "colab": {
          "base_uri": "https://localhost:8080/"
        },
        "outputId": "4db4fb00-9352-4b4e-c3b3-7f43e2224ba5",
        "id": "qXAWkALxNsX4"
      },
      "execution_count": 40,
      "outputs": [
        {
          "output_type": "stream",
          "name": "stdout",
          "text": [
            "x=4\n",
            "y=15\n",
            "sum = 20\n"
          ]
        }
      ]
    },
    {
      "cell_type": "code",
      "source": [
        "from pickle import FALSE\n",
        "x=int(input(\"x=\"))\n",
        "y=int(input(\"y=\"))\n",
        "sum=x+y\n",
        "diff=x-y\n",
        "if sum==5 or diff==5 or x==y:\n",
        "  print(\"True\")\n",
        "else:\n",
        "  print(\"False\")"
      ],
      "metadata": {
        "colab": {
          "base_uri": "https://localhost:8080/"
        },
        "outputId": "0389feb4-8866-4b87-8886-2abe2e27ba8c",
        "id": "mSJ3C_4-PlAe"
      },
      "execution_count": 47,
      "outputs": [
        {
          "output_type": "stream",
          "name": "stdout",
          "text": [
            "x=5\n",
            "y=4\n",
            "False\n"
          ]
        }
      ]
    },
    {
      "cell_type": "code",
      "source": [
        "x=int(input(\"x=\"))\n",
        "y=int(input(\"y=\"))\n",
        "result=x+y\n",
        "if type(x) and type(y) is int:\n",
        "  print(result)\n"
      ],
      "metadata": {
        "colab": {
          "base_uri": "https://localhost:8080/"
        },
        "id": "-7W2jP3eqfOa",
        "outputId": "82254e96-f87b-4a59-d250-35d08cf1201c"
      },
      "execution_count": 7,
      "outputs": [
        {
          "output_type": "stream",
          "name": "stdout",
          "text": [
            "x=2\n",
            "y=4\n",
            "6\n"
          ]
        }
      ]
    },
    {
      "cell_type": "code",
      "source": [
        "def uniqueness_data(data):\n",
        "  if len(data)==len(set(data)):\n",
        "    return True\n",
        "  else:\n",
        "    return False\n",
        "print(uniqueness_data([2,5,5]))\n",
        "print(uniqueness_data([2,5,6]))"
      ],
      "metadata": {
        "colab": {
          "base_uri": "https://localhost:8080/"
        },
        "id": "-smtZGTvvT4E",
        "outputId": "c00c9391-33d9-4021-bddd-763d2f150b31"
      },
      "execution_count": 13,
      "outputs": [
        {
          "output_type": "stream",
          "name": "stdout",
          "text": [
            "False\n",
            "True\n"
          ]
        }
      ]
    },
    {
      "cell_type": "code",
      "source": [
        "side1=float(input(\"side1=\"))\n",
        "side2=float(input(\"side2=\"))\n",
        "side3=float(input(\"side3=\"))\n",
        "if side1 == side2 == side3:\n",
        "  print(\"Equilateral Triangle\")\n",
        "elif side1 == side2 or side1 == side3 or side2 == side3:\n",
        "  print(\"Isosceles Triangle\")\n",
        "else:\n",
        "  print(\"Scalene Triangle\")"
      ],
      "metadata": {
        "colab": {
          "base_uri": "https://localhost:8080/"
        },
        "id": "2N7fHWBeyYKq",
        "outputId": "6e1d2007-dc36-4091-aa71-977e8378c0fa"
      },
      "execution_count": 15,
      "outputs": [
        {
          "output_type": "stream",
          "name": "stdout",
          "text": [
            "side1=2\n",
            "side2=5\n",
            "side3=2\n",
            "Isosceles Triangle\n"
          ]
        }
      ]
    },
    {
      "cell_type": "code",
      "source": [
        "x=float(input(\"x=\"))\n",
        "y=float(input(\"y=\"))\n",
        "z=float(input(\"z=\"))\n",
        "values=[x,y,z]\n",
        "sorted_values=sorted(values)\n",
        "median=sorted_values[1]\n",
        "print(median)"
      ],
      "metadata": {
        "colab": {
          "base_uri": "https://localhost:8080/"
        },
        "id": "vrw3jWr_0P9k",
        "outputId": "e2f9c143-ea23-4745-9704-25a29448deca"
      },
      "execution_count": 19,
      "outputs": [
        {
          "output_type": "stream",
          "name": "stdout",
          "text": [
            "x=12\n",
            "y=32\n",
            "z=25\n",
            "25.0\n"
          ]
        }
      ]
    },
    {
      "cell_type": "code",
      "source": [
        "year = int(input(\"Input a year: \"))\n",
        "\n",
        "if (year % 400 == 0):\n",
        "    leap_year = True\n",
        "elif (year % 100 == 0):\n",
        "    leap_year = False\n",
        "elif (year % 4 == 0):\n",
        "    leap_year = True\n",
        "else:\n",
        "    leap_year = False\n",
        "\n",
        "month = int(input(\"Input a month [1-12]: \"))\n",
        "\n",
        "if month in (1, 3, 5, 7, 8, 10, 12):\n",
        "    month_length = 31\n",
        "elif month == 2:\n",
        "    if leap_year:\n",
        "        month_length = 29\n",
        "    else:\n",
        "        month_length = 28\n",
        "else:\n",
        "    month_length = 30\n",
        "\n",
        "\n",
        "day = int(input(\"Input a day [1-31]: \"))\n",
        "\n",
        "if day < month_length:\n",
        "    day += 1\n",
        "else:\n",
        "    day = 1\n",
        "    if month == 12:\n",
        "        month = 1\n",
        "        year += 1\n",
        "    else:\n",
        "        month += 1\n",
        "print(\"The next date is [yyyy-mm-dd] %d-%d-%d.\" % (year, month, day))\n"
      ],
      "metadata": {
        "colab": {
          "base_uri": "https://localhost:8080/"
        },
        "id": "zvrajICvJk-K",
        "outputId": "b894aa51-2e48-4373-9c7d-142621d02045"
      },
      "execution_count": 1,
      "outputs": [
        {
          "output_type": "stream",
          "name": "stdout",
          "text": [
            "Input a year: 2023\n",
            "Input a month [1-12]: 11\n",
            "Input a day [1-31]: 22\n",
            "The next date is [yyyy-mm-dd] 2023-11-23.\n"
          ]
        }
      ]
    },
    {
      "cell_type": "code",
      "source": [
        "print(\"List of months: January, February, March, April, May, June, July, August, September, October, November, December\")\n",
        "month_name = input(\"Input the name of Month: \")\n",
        "\n",
        "if month_name == \"February\":\n",
        "\tprint(\"No. of days: 28/29 days\")\n",
        "elif month_name in (\"April\", \"June\", \"September\", \"November\"):\n",
        "\tprint(\"No. of days: 30 days\")\n",
        "elif month_name in (\"January\", \"March\", \"May\", \"July\", \"August\", \"October\", \"December\"):\n",
        "\tprint(\"No. of days: 31 day\")\n",
        "else:\n",
        "\tprint(\"Wrong month name\")\n",
        ""
      ],
      "metadata": {
        "colab": {
          "base_uri": "https://localhost:8080/"
        },
        "id": "gy-BCc-nNEbD",
        "outputId": "aedf8b57-572c-493d-9a25-5c6e3387e347"
      },
      "execution_count": 2,
      "outputs": [
        {
          "output_type": "stream",
          "name": "stdout",
          "text": [
            "List of months: January, February, March, April, May, June, July, August, September, October, November, December\n",
            "Input the name of Month: March\n",
            "No. of days: 31 day\n"
          ]
        }
      ]
    },
    {
      "cell_type": "code",
      "source": [
        "text = input(\"Input a string: \")\n",
        "text = text.strip()\n",
        "if len(text) < 1:\n",
        "    print(\"Input a valid text\")\n",
        "else:\n",
        "    if all(text[i] in \"0123456789\" for i in range(len(text))):\n",
        "        print(\"The string is an integer.\")\n",
        "    elif (text[0] in \"+-\") and \\\n",
        "         all(text[i] in \"0123456789\" for i in range(1,len(text))):\n",
        "         print(\"The string is an integer.\")\n",
        "    else:\n",
        "        print(\"The string is not an integer.\")\n",
        ""
      ],
      "metadata": {
        "id": "TpSYhnO2NfwG"
      },
      "execution_count": null,
      "outputs": []
    }
  ]
}