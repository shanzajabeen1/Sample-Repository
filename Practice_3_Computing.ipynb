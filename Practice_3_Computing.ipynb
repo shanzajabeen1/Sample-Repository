{
  "nbformat": 4,
  "nbformat_minor": 0,
  "metadata": {
    "colab": {
      "provenance": [],
      "authorship_tag": "ABX9TyPDK5cptkS8YX0da+Kea9ch",
      "include_colab_link": true
    },
    "kernelspec": {
      "name": "python3",
      "display_name": "Python 3"
    },
    "language_info": {
      "name": "python"
    }
  },
  "cells": [
    {
      "cell_type": "markdown",
      "metadata": {
        "id": "view-in-github",
        "colab_type": "text"
      },
      "source": [
        "<a href=\"https://colab.research.google.com/github/shanzajabeen1/Sample-Repository/blob/main/Practice_3_Computing.ipynb\" target=\"_parent\"><img src=\"https://colab.research.google.com/assets/colab-badge.svg\" alt=\"Open In Colab\"/></a>"
      ]
    },
    {
      "cell_type": "code",
      "source": [
        "def twinkle():\n",
        "    twinkle_string = \"\"\"Twinkle, twinkle, little star,\n",
        "    How I wonder what you are!\n",
        "    Up above the world so high,\n",
        "    Like a diamond in the sky.\n",
        "    Twinkle, twinkle, little star,\n",
        "    How I wonder what you are\"\"\"\n",
        "\n",
        "    print(twinkle_string)\n",
        "\n",
        "twinkle()"
      ],
      "metadata": {
        "colab": {
          "base_uri": "https://localhost:8080/"
        },
        "id": "oBkXia7hKohD",
        "outputId": "d1c7e216-81d2-40c1-8e2b-b5e59f4b8e63"
      },
      "execution_count": 2,
      "outputs": [
        {
          "output_type": "stream",
          "name": "stdout",
          "text": [
            "Twinkle, twinkle, little star,\n",
            "    How I wonder what you are!\n",
            "    Up above the world so high,\n",
            "    Like a diamond in the sky.\n",
            "    Twinkle, twinkle, little star,\n",
            "    How I wonder what you are\n"
          ]
        }
      ]
    },
    {
      "cell_type": "code",
      "source": [
        "def info():\n",
        "    name = \"shanza\"\n",
        "    age = 22\n",
        "    address = \"H-13\"\n",
        "\n",
        "    print(\"Name:\", name)\n",
        "    print(\"Age:\", age)\n",
        "    print(\"Address:\", address)\n",
        "info()"
      ],
      "metadata": {
        "colab": {
          "base_uri": "https://localhost:8080/"
        },
        "id": "fA2kHUISKxR0",
        "outputId": "6ddccdb1-3030-4d82-b2f4-3b5275997cee"
      },
      "execution_count": 4,
      "outputs": [
        {
          "output_type": "stream",
          "name": "stdout",
          "text": [
            "Name: shanza\n",
            "Age: 22\n",
            "Address: H-13\n"
          ]
        }
      ]
    },
    {
      "cell_type": "code",
      "source": [
        "import sys\n",
        "\n",
        "def version():\n",
        "    print(sys.version)\n",
        "    print(sys.version_info)\n",
        "version()"
      ],
      "metadata": {
        "colab": {
          "base_uri": "https://localhost:8080/"
        },
        "id": "Ert3_zd3LbiN",
        "outputId": "e8e4e5d3-fb31-47f2-9672-5e4471ec8538"
      },
      "execution_count": 5,
      "outputs": [
        {
          "output_type": "stream",
          "name": "stdout",
          "text": [
            "3.10.12 (main, Jun 11 2023, 05:26:28) [GCC 11.4.0]\n",
            "sys.version_info(major=3, minor=10, micro=12, releaselevel='final', serial=0)\n"
          ]
        }
      ]
    },
    {
      "cell_type": "code",
      "source": [
        "def reverse_and_print_names():\n",
        "    first_name = input(\"Enter your first name: \")\n",
        "    last_name = input(\"Enter your last name: \")\n",
        "\n",
        "    reversed_names = last_name + \" \" + first_name\n",
        "    print(\"Reversed Names:\", reversed_names)\n",
        "\n",
        "reverse_and_print_names()"
      ],
      "metadata": {
        "colab": {
          "base_uri": "https://localhost:8080/"
        },
        "id": "VSlhySgmLxyj",
        "outputId": "a9bea95f-8a94-4d3f-c7d6-b5e182c280f2"
      },
      "execution_count": 6,
      "outputs": [
        {
          "output_type": "stream",
          "name": "stdout",
          "text": [
            "Enter your first name: shanza\n",
            "Enter your last name: jabeen\n",
            "Reversed Names: jabeen shanza\n"
          ]
        }
      ]
    },
    {
      "cell_type": "code",
      "source": [
        "import math\n",
        "\n",
        "def sphere_volume(radius):\n",
        "    volume = (4/3) * math.pi * radius**3\n",
        "    return volume\n",
        "    radius = float(input(\"Enter the radius of the sphere: \"))\n",
        "    sphere_volume = calculate_sphere_volume(radius)\n",
        "    print(f\"The volume of the sphere with radius {radius} is: {sphere_volume:.2f}\")\n",
        "\n",
        "sphere_volume(5)"
      ],
      "metadata": {
        "colab": {
          "base_uri": "https://localhost:8080/"
        },
        "id": "A02Y9A_bMJoY",
        "outputId": "87ecc9f8-b0f1-4059-c36a-b7af33a3a261"
      },
      "execution_count": 9,
      "outputs": [
        {
          "output_type": "execute_result",
          "data": {
            "text/plain": [
              "523.5987755982989"
            ]
          },
          "metadata": {},
          "execution_count": 9
        }
      ]
    },
    {
      "cell_type": "code",
      "source": [
        "import math\n",
        "\n",
        "def calculate_distance(x1, y1, x2, y2):\n",
        "    distance = math.sqrt((x2 - x1)**2 + (y2 - y1)**2)\n",
        "    return distance\n",
        "    x1 = float(input(\"Enter the x-coordinate of the first point: \"))\n",
        "    y1 = float(input(\"Enter the y-coordinate of the first point: \"))\n",
        "    x2 = float(input(\"Enter the x-coordinate of the second point: \"))\n",
        "    y2 = float(input(\"Enter the y-coordinate of the second point: \"))\n",
        "    point_distance = calculate_distance(x1, y1, x2, y2)\n",
        "calculate_distance(2,5,4,3)\n"
      ],
      "metadata": {
        "colab": {
          "base_uri": "https://localhost:8080/"
        },
        "id": "c3Wfau3bMrY0",
        "outputId": "922845d2-56ac-4803-8bf6-5b001ed2bd4b"
      },
      "execution_count": 10,
      "outputs": [
        {
          "output_type": "execute_result",
          "data": {
            "text/plain": [
              "2.8284271247461903"
            ]
          },
          "metadata": {},
          "execution_count": 10
        }
      ]
    },
    {
      "cell_type": "code",
      "source": [
        "def is_vowel(letter):\n",
        "    letter = letter.lower()\n",
        "\n",
        "    if letter in ('a', 'e', 'i', 'o', 'u'):\n",
        "        return True\n",
        "    else:\n",
        "        return False\n",
        "is_vowel(\"b\")"
      ],
      "metadata": {
        "colab": {
          "base_uri": "https://localhost:8080/"
        },
        "id": "V2mHni7eNO5A",
        "outputId": "d9bf2908-8ade-4911-ce8d-b0db703dbb74"
      },
      "execution_count": 13,
      "outputs": [
        {
          "output_type": "execute_result",
          "data": {
            "text/plain": [
              "False"
            ]
          },
          "metadata": {},
          "execution_count": 13
        }
      ]
    }
  ]
}